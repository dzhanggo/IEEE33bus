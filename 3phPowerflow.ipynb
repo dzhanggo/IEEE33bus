{
 "cells": [
  {
   "attachments": {},
   "cell_type": "markdown",
   "metadata": {},
   "source": [
    "3 phase imbalance power flow"
   ]
  },
  {
   "cell_type": "code",
   "execution_count": 55,
   "metadata": {},
   "outputs": [
    {
     "ename": "UserWarning",
     "evalue": "vk_percent is required as trafo type parameter",
     "output_type": "error",
     "traceback": [
      "\u001b[1;31m---------------------------------------------------------------------------\u001b[0m",
      "\u001b[1;31mUserWarning\u001b[0m                               Traceback (most recent call last)",
      "Cell \u001b[1;32mIn [55], line 21\u001b[0m\n\u001b[0;32m     18\u001b[0m unsymmetric_trafo_x \u001b[39m=\u001b[39m {\u001b[39m\"\u001b[39m\u001b[39msn_mva\u001b[39m\u001b[39m\"\u001b[39m: \u001b[39m1.6\u001b[39m, \u001b[39m\"\u001b[39m\u001b[39mvn_hv_kv\u001b[39m\u001b[39m\"\u001b[39m: \u001b[39m20\u001b[39m,\u001b[39m\"\u001b[39m\u001b[39mvn_lv_kv\u001b[39m\u001b[39m\"\u001b[39m: \u001b[39m0.4\u001b[39m}\n\u001b[0;32m     20\u001b[0m pp\u001b[39m.\u001b[39mcreate_std_type(grid,unsymmetric_trafo, name\u001b[39m=\u001b[39m\u001b[39m'\u001b[39m\u001b[39munsymmetric_trafo\u001b[39m\u001b[39m'\u001b[39m, element\u001b[39m=\u001b[39m\u001b[39m\"\u001b[39m\u001b[39mtrafo\u001b[39m\u001b[39m\"\u001b[39m)\n\u001b[1;32m---> 21\u001b[0m pp\u001b[39m.\u001b[39;49mcreate_std_type(grid,unsymmetric_trafo_x, name\u001b[39m=\u001b[39;49m\u001b[39m'\u001b[39;49m\u001b[39munsymmetric_trafo_x\u001b[39;49m\u001b[39m'\u001b[39;49m, element\u001b[39m=\u001b[39;49m\u001b[39m\"\u001b[39;49m\u001b[39mtrafo\u001b[39;49m\u001b[39m\"\u001b[39;49m)\n\u001b[0;32m     22\u001b[0m \u001b[39m# create buses\u001b[39;00m\n\u001b[0;32m     23\u001b[0m b1 \u001b[39m=\u001b[39m pp\u001b[39m.\u001b[39mcreate_bus(grid, vn_kv\u001b[39m=\u001b[39m\u001b[39m20.0\u001b[39m, name\u001b[39m=\u001b[39m\u001b[39m\"\u001b[39m\u001b[39mBus 0\u001b[39m\u001b[39m\"\u001b[39m)\n",
      "File \u001b[1;32m~\\AppData\\Local\\Packages\\PythonSoftwareFoundation.Python.3.10_qbz5n2kfra8p0\\LocalCache\\local-packages\\Python310\\site-packages\\pandapower\\std_types.py:96\u001b[0m, in \u001b[0;36mcreate_std_type\u001b[1;34m(net, data, name, element, overwrite, check_required)\u001b[0m\n\u001b[0;32m     94\u001b[0m     \u001b[39mfor\u001b[39;00m par \u001b[39min\u001b[39;00m required:\n\u001b[0;32m     95\u001b[0m         \u001b[39mif\u001b[39;00m par \u001b[39mnot\u001b[39;00m \u001b[39min\u001b[39;00m data:\n\u001b[1;32m---> 96\u001b[0m             \u001b[39mraise\u001b[39;00m \u001b[39mUserWarning\u001b[39;00m(\u001b[39m\"\u001b[39m\u001b[39m%s\u001b[39;00m\u001b[39m is required as \u001b[39m\u001b[39m%s\u001b[39;00m\u001b[39m type parameter\u001b[39m\u001b[39m\"\u001b[39m \u001b[39m%\u001b[39m (par, element))\n\u001b[0;32m     97\u001b[0m library \u001b[39m=\u001b[39m net\u001b[39m.\u001b[39mstd_types[element]\n\u001b[0;32m     98\u001b[0m \u001b[39mif\u001b[39;00m overwrite \u001b[39mor\u001b[39;00m \u001b[39mnot\u001b[39;00m (name \u001b[39min\u001b[39;00m library):\n",
      "\u001b[1;31mUserWarning\u001b[0m: vk_percent is required as trafo type parameter"
     ]
    }
   ],
   "source": [
    "import pandapower as pp\n",
    "\n",
    "# empty grid\n",
    "grid = pp.create_empty_network() \n",
    "\n",
    "# define unsymmetric line as standard type (component library)\n",
    "unsymmetric_line = {\"r_ohm_per_km\": 0.1941, \"x_ohm_per_km\": 0.07476991, \"c_nf_per_km\": 1160., \"max_i_ka\": 0.421,\n",
    "                    \"endtemp_degree\": 70.0, \"r0_ohm_per_km\": 0.7766,\"x0_ohm_per_km\": 0.2990796,\"c0_nf_per_km\":  500.}\n",
    "pp.create_std_type(grid, unsymmetric_line, name=\"unsymmetric_line\",element = \"line\")\n",
    "\n",
    "# define unsymmetric trafo as standard type (component library)\n",
    "unsymmetric_trafo = {\"sn_mva\": 1.6, \"vn_hv_kv\": 20,\"vn_lv_kv\": 0.4, \"vk_percent\": 6, \"vkr_percent\": 0.78125,\n",
    "                     \"pfe_kw\": 0.0, \"i0_percent\": 0.0, \"shift_degree\": 0, \"vector_group\": \"Dyn\", \"tap_side\": \"lv\", \"tap_neutral\": 0,\n",
    "                     \"tap_min\": -2, \"tap_max\": 2, \"tap_step_degree\": 0, \"tap_step_percent\": 2.5, \"tap_phase_shifter\": False,\n",
    "                     \"vk0_percent\": 6, \"vkr0_percent\": 0.78125, \"mag0_percent\": 100, \"mag0_rx\": 0., \"si0_hv_partial\": 0.9}\n",
    "\n",
    "\n",
    "unsymmetric_trafo_x = {\"sn_mva\": 1.6, \"vn_hv_kv\": 20,\"vn_lv_kv\": 0.4}\n",
    "\n",
    "pp.create_std_type(grid,unsymmetric_trafo, name='unsymmetric_trafo', element=\"trafo\")\n",
    "pp.create_std_type(grid,unsymmetric_trafo_x, name='unsymmetric_trafo_x', element=\"trafo\")\n",
    "# create buses\n",
    "b1 = pp.create_bus(grid, vn_kv=20.0, name=\"Bus 0\")\n",
    "b2 = pp.create_bus(grid, vn_kv=0.4, name=\"Bus 1\")\n",
    "b3 = pp.create_bus(grid, vn_kv=0.4, name=\"Bus 2\")\n",
    "#b4 = pp.create_bus(grid, vn_kv=0.4, name = \"Bus 4\")\n",
    "#b32 = pp.create_bus(grid, vn_kv=0.4, name=\"Bus 3.2\")\n",
    "\n",
    "# create network feeder\n",
    "#pp.create_ext_grid(grid, bus=b1, vm_pu=1.02, name=\"Grid Connection\", s_sc_max_mva=1000, rx_max=1, x0x_max=1, r0x0_max=1)\n",
    "\n",
    "pp.create_ext_grid(grid, bus=b1, vm_pu=1.02, name=\"Grid Connection\", s_sc_max_mva=1000)\n",
    "\n",
    "# create loads\n",
    "pp.create_asymmetric_load(grid, bus=b3, p_a_mw=0.05, p_b_mw=0.05, p_c_mw=0.05, q_a_mvar=0, q_b_mvar=0,\n",
    "                          q_c_mvar=0, sn_mva=0, name=None, scaling=1.0, index=None, in_service=True, type='wye')\n",
    "# pp.create_asymmetric_load(grid, bus=b31, p_a_mw=0.0, p_b_mw=0.0, p_c_mw=0.8, q_a_mvar=0, q_b_mvar=0, q_c_mvar=0, sn_mva=0.06, name=None, scaling=1.0, index=None, in_service=True, type='delta')\n",
    "\n",
    "# create trafos\n",
    "#t1 = pp.create_transformer(grid, hv_bus=b1, lv_bus=b2, std_type=\"unsymmetric_trafo\", name=\"Trafo\")\n",
    "t1 = pp.create_transformer(grid, hv_bus=b1, lv_bus=b2, std_type=\"unsymmetric_trafo_x\", name=\"Trafo\")\n",
    "# create lines\n",
    "l1 = pp.create_line(grid, from_bus=b2, to_bus=b3, length_km=0.1, name=\"Line\",std_type=\"unsymmetric_line\") \n",
    "#l2 = pp.create_line(grid, from_bus=b2, to_bus=b32, length_km=0.1, name=\"Line\",std_type=\"unsymmetric_line\") \n",
    "# l3 = pp.create_line(grid, from_bus=b31, to_bus=b32, length_km=0.1, name=\"Line\",std_type=\"unsymmetric_line\") \n",
    "\n",
    "#l2 = pp.create_line(grid, b2 , b4, std_type=\"NAYY 4x50 SE\",length_km=0.1, name=\"line\")\n",
    "\n",
    "# adds the zero sequence parameters of the standard types to the grid model\n",
    "pp.add_zero_impedance_parameters(grid)\n",
    "\n",
    "# run three-phase power flow\n",
    "pp.runpp_3ph(grid, calculate_voltage_angles=True, init='auto', max_iteration='auto',\n",
    "             tolerance_mva=1e-08, trafo_model='t', trafo_loading='current',\n",
    "             enforce_q_lims=False, numba=True, recycle=None, check_connectivity=True, switch_rx_ratio=2.0, delta_q=0, v_debug=False)"
   ]
  },
  {
   "cell_type": "code",
   "execution_count": 54,
   "metadata": {},
   "outputs": [
    {
     "name": "stdout",
     "output_type": "stream",
     "text": [
      "     p_a_mw  q_a_mvar    p_b_mw  q_b_mvar    p_c_mw  q_c_mvar\n",
      "0  0.050945  0.000626  0.050945  0.000626  0.050945  0.000626\n"
     ]
    }
   ],
   "source": [
    "print(grid.res_ext_grid_3ph)"
   ]
  },
  {
   "cell_type": "code",
   "execution_count": 56,
   "metadata": {},
   "outputs": [
    {
     "data": {
      "text/plain": [
       "2133.59"
      ]
     },
     "execution_count": 56,
     "metadata": {},
     "output_type": "execute_result"
    }
   ],
   "source": [
    "w = [14.82,23.95,12.91,64.64,30.56,44.73,21.77,34.59,154.50,136.52,5.68,14.42,4.69,106.95,48.32,154.50,49.23,4.28,\n",
    "     2.28,2.28,962.08,17.51,16.40,2.28,104.32,34.03,18.34,23.47,23.54]\n",
    "\n",
    "sum(w)"
   ]
  },
  {
   "cell_type": "code",
   "execution_count": 57,
   "metadata": {},
   "outputs": [
    {
     "data": {
      "text/plain": [
       "341.53000000000003"
      ]
     },
     "execution_count": 57,
     "metadata": {},
     "output_type": "execute_result"
    }
   ],
   "source": [
    "z = [5.10,0.74,55.15,23.08,10.73,49.76,22.01,11.77,3.23,147.04,12.92]\n",
    "\n",
    "sum(z)"
   ]
  },
  {
   "cell_type": "code",
   "execution_count": 58,
   "metadata": {},
   "outputs": [
    {
     "data": {
      "text/plain": [
       "2264.5"
      ]
     },
     "execution_count": 58,
     "metadata": {},
     "output_type": "execute_result"
    }
   ],
   "source": [
    "c = [15.50,2249]\n",
    "\n",
    "sum(c)"
   ]
  },
  {
   "cell_type": "code",
   "execution_count": 59,
   "metadata": {},
   "outputs": [
    {
     "data": {
      "text/plain": [
       "0.3087610160705028"
      ]
     },
     "execution_count": 59,
     "metadata": {},
     "output_type": "execute_result"
    }
   ],
   "source": [
    "2978/9645"
   ]
  }
 ],
 "metadata": {
  "kernelspec": {
   "display_name": "Python 3",
   "language": "python",
   "name": "python3"
  },
  "language_info": {
   "codemirror_mode": {
    "name": "ipython",
    "version": 3
   },
   "file_extension": ".py",
   "mimetype": "text/x-python",
   "name": "python",
   "nbconvert_exporter": "python",
   "pygments_lexer": "ipython3",
   "version": "3.10.9"
  },
  "orig_nbformat": 4,
  "vscode": {
   "interpreter": {
    "hash": "4dd1dc2b4cf8753a792404c849fd3b3ef5b2483288c4b02df7715583a060a13e"
   }
  }
 },
 "nbformat": 4,
 "nbformat_minor": 2
}
