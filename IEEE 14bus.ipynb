{
 "cells": [
  {
   "cell_type": "code",
   "execution_count": 133,
   "metadata": {},
   "outputs": [],
   "source": [
    "import pandas as pd\n",
    "import pandapower as pp\n",
    "\n",
    "net = pp.create_empty_network()\n",
    "df = pd.read_excel(\"IEEE14bus.xlsx\", sheet_name=\"bus\", index_col=0)"
   ]
  },
  {
   "cell_type": "code",
   "execution_count": 134,
   "metadata": {},
   "outputs": [],
   "source": [
    "for idx in df.index:\n",
    "    \n",
    "    pp.create_bus(net, vn_kv=df.at[idx,\"vn_kv\"],name=\"bus {}\".format(idx+1),index = df.at[idx,\"bus_id\"])"
   ]
  },
  {
   "cell_type": "code",
   "execution_count": 135,
   "metadata": {},
   "outputs": [],
   "source": [
    "num_of_bus = len(df.index)"
   ]
  },
  {
   "cell_type": "code",
   "execution_count": 136,
   "metadata": {},
   "outputs": [
    {
     "name": "stdout",
     "output_type": "stream",
     "text": [
      "      name  vn_kv type  zone  in_service\n",
      "1    bus 1   23.0    b  None        True\n",
      "2    bus 2   23.0    b  None        True\n",
      "3    bus 3   23.0    b  None        True\n",
      "4    bus 4   23.0    b  None        True\n",
      "5    bus 5   23.0    b  None        True\n",
      "6    bus 6   23.0    b  None        True\n",
      "7    bus 7   23.0    b  None        True\n",
      "8    bus 8   23.0    b  None        True\n",
      "9    bus 9   23.0    b  None        True\n",
      "10  bus 10   23.0    b  None        True\n",
      "11  bus 11   23.0    b  None        True\n",
      "12  bus 12   23.0    b  None        True\n",
      "13  bus 13   23.0    b  None        True\n",
      "14  bus 14   23.0    b  None        True\n"
     ]
    }
   ],
   "source": [
    "print(net.bus)"
   ]
  },
  {
   "cell_type": "code",
   "execution_count": 137,
   "metadata": {},
   "outputs": [],
   "source": [
    "df = pd.read_excel(\"IEEE14bus.xlsx\", sheet_name=\"load\", index_col=0)\n",
    "\n",
    "for idx in df.index:\n",
    "    pp.create_load(net, bus=df.at[idx,\"bus\"],p_mw=df.at[idx,\"p\"],q_mvar=df.at[idx,\"q\"],name=\"load {}\".format(idx+1))"
   ]
  },
  {
   "cell_type": "code",
   "execution_count": 138,
   "metadata": {},
   "outputs": [
    {
     "name": "stdout",
     "output_type": "stream",
     "text": [
      "       name  bus  p_mw  q_mvar  const_z_percent  const_i_percent  sn_mva  \\\n",
      "0    load 1    2   2.0     1.6              0.0              0.0     NaN   \n",
      "1    load 2    3   4.0     2.7              0.0              0.0     NaN   \n",
      "2    load 3    4   1.0     0.9              0.0              0.0     NaN   \n",
      "3    load 4    5   2.0     0.8              0.0              0.0     NaN   \n",
      "4    load 5    6   3.0     1.5              0.0              0.0     NaN   \n",
      "5    load 6    7   1.5     1.2              0.0              0.0     NaN   \n",
      "6    load 7    8   5.0     3.0              0.0              0.0     NaN   \n",
      "7    load 8    9   4.5     2.0              0.0              0.0     NaN   \n",
      "8    load 9   10   0.6     0.1              0.0              0.0     NaN   \n",
      "9   load 10   11   1.0     0.9              0.0              0.0     NaN   \n",
      "10  load 11   12   1.0     0.7              0.0              0.0     NaN   \n",
      "11  load 12   13   1.0     0.9              0.0              0.0     NaN   \n",
      "12  load 13   14   2.1     1.0              0.0              0.0     NaN   \n",
      "\n",
      "    scaling  in_service type  \n",
      "0       1.0        True  wye  \n",
      "1       1.0        True  wye  \n",
      "2       1.0        True  wye  \n",
      "3       1.0        True  wye  \n",
      "4       1.0        True  wye  \n",
      "5       1.0        True  wye  \n",
      "6       1.0        True  wye  \n",
      "7       1.0        True  wye  \n",
      "8       1.0        True  wye  \n",
      "9       1.0        True  wye  \n",
      "10      1.0        True  wye  \n",
      "11      1.0        True  wye  \n",
      "12      1.0        True  wye  \n"
     ]
    }
   ],
   "source": [
    "print(net.load)"
   ]
  },
  {
   "cell_type": "code",
   "execution_count": 139,
   "metadata": {},
   "outputs": [
    {
     "data": {
      "text/plain": [
       "0"
      ]
     },
     "execution_count": 139,
     "metadata": {},
     "output_type": "execute_result"
    }
   ],
   "source": [
    "df = pd.read_excel(\"IEEE14bus.xlsx\", sheet_name=\"ext_grid\", index_col=0)\n",
    "\n",
    "pp.create_ext_grid(net, bus=df.loc[0,\"bus\"],vm_pu=df.loc[0,\"vm_pu\"],va_degree=df.loc[0,\"va_degree\"])"
   ]
  },
  {
   "cell_type": "code",
   "execution_count": 140,
   "metadata": {},
   "outputs": [],
   "source": [
    "df = pd.read_excel(\"IEEE14bus.xlsx\", sheet_name=\"line\", index_col=0)\n",
    "\n",
    "for idx in df.index:\n",
    "    pp.create_line_from_parameters(net, from_bus=df.at[idx,\"from_bus\"],to_bus=df.at[idx,\"to_bus\"],length_km=df.at[idx,\"length_km\"],r_ohm_per_km=df.at[idx,\"r_ohm_per_km\"],\n",
    "                                   x_ohm_per_km=df.at[idx,\"x_ohm_per_km\"],c_nf_per_km=df.at[idx,\"c_nf_per_km\"],max_i_ka=df.at[idx,\"max_i_ka\"],name=\"line {}\".format(idx))\n",
    "    \n"
   ]
  },
  {
   "cell_type": "code",
   "execution_count": 141,
   "metadata": {},
   "outputs": [
    {
     "name": "stdout",
     "output_type": "stream",
     "text": [
      "       name std_type  from_bus  to_bus  length_km  r_ohm_per_km  x_ohm_per_km  \\\n",
      "0    line 1     None         1       2        1.0       0.39675        0.5290   \n",
      "1    line 2     None         1       3        1.0       0.58190        0.5819   \n",
      "2    line 3     None         1       4        1.0       0.58190        0.5819   \n",
      "3    line 4     None         2       5        1.0       0.47610        0.9522   \n",
      "4    line 5     None         2       6        1.0       0.42320        0.5819   \n",
      "5    line 6     None         5       7        1.0       0.21160        0.2116   \n",
      "6    line 7     None         3       8        1.0       0.42320        0.5819   \n",
      "7    line 8     None         8       9        1.0       0.42320        0.5819   \n",
      "8    line 9     None         8      10        1.0       0.58190        0.5819   \n",
      "9   line 10     None         3      11        1.0       0.58190        0.5819   \n",
      "10  line 11     None         4      12        1.0       0.47610        0.6348   \n",
      "11  line 12     None         4      13        1.0       0.42320        0.5819   \n",
      "12  line 13     None        13      14        1.0       0.21160        0.2116   \n",
      "13  line 14     None         6      10        1.0       0.21160        0.2116   \n",
      "14  line 15     None        11      12        1.0       0.21160        0.2116   \n",
      "15  line 16     None         7      14        1.0       0.47610        0.6348   \n",
      "\n",
      "    c_nf_per_km  g_us_per_km  max_i_ka   df  parallel  type  in_service  \n",
      "0           0.0          0.0    1000.0  1.0         1  None        True  \n",
      "1           0.0          0.0    1000.0  1.0         1  None        True  \n",
      "2           0.0          0.0    1000.0  1.0         1  None        True  \n",
      "3           0.0          0.0    1000.0  1.0         1  None        True  \n",
      "4           0.0          0.0    1000.0  1.0         1  None        True  \n",
      "5           0.0          0.0    1000.0  1.0         1  None        True  \n",
      "6           0.0          0.0    1000.0  1.0         1  None        True  \n",
      "7           0.0          0.0    1000.0  1.0         1  None        True  \n",
      "8           0.0          0.0    1000.0  1.0         1  None        True  \n",
      "9           0.0          0.0    1000.0  1.0         1  None        True  \n",
      "10          0.0          0.0    1000.0  1.0         1  None        True  \n",
      "11          0.0          0.0    1000.0  1.0         1  None        True  \n",
      "12          0.0          0.0    1000.0  1.0         1  None        True  \n",
      "13          0.0          0.0    1000.0  1.0         1  None        True  \n",
      "14          0.0          0.0    1000.0  1.0         1  None        True  \n",
      "15          0.0          0.0    1000.0  1.0         1  None        True  \n"
     ]
    }
   ],
   "source": [
    "print(net.line)"
   ]
  },
  {
   "cell_type": "code",
   "execution_count": 142,
   "metadata": {},
   "outputs": [
    {
     "name": "stderr",
     "output_type": "stream",
     "text": [
      "numba cannot be imported and numba functions are disabled.\n",
      "Probably the execution is slow.\n",
      "Please install numba to gain a massive speedup.\n",
      "(or if you prefer slow execution, set the flag numba=False to avoid this warning!)\n",
      "\n"
     ]
    }
   ],
   "source": [
    "pp.runpp(net)"
   ]
  },
  {
   "cell_type": "code",
   "execution_count": 143,
   "metadata": {},
   "outputs": [
    {
     "name": "stdout",
     "output_type": "stream",
     "text": [
      "       vm_pu  va_degree       p_mw     q_mvar\n",
      "1   1.000000   0.000000 -29.255389 -17.956803\n",
      "2   0.985163  -0.312453   2.000000   1.600000\n",
      "3   0.980763  -0.303987   4.000000   2.700000\n",
      "4   0.986564  -0.187004   1.000000   0.900000\n",
      "5   0.979205  -0.482806   2.000000   0.800000\n",
      "6   0.976842  -0.544611   3.000000   1.500000\n",
      "7   0.978501  -0.468849   1.500000   1.200000\n",
      "8   0.970765  -0.618997   5.000000   3.000000\n",
      "9   0.964747  -0.823944   4.500000   2.000000\n",
      "10  0.975011  -0.573195   0.600000   0.100000\n",
      "11  0.981320  -0.280871   1.000000   0.900000\n",
      "12  0.982297  -0.270101   1.000000   0.700000\n",
      "13  0.981081  -0.357323   1.000000   0.900000\n",
      "14  0.979414  -0.404625   2.100000   1.000000\n"
     ]
    }
   ],
   "source": [
    "print(net.res_bus)"
   ]
  },
  {
   "cell_type": "code",
   "execution_count": 144,
   "metadata": {},
   "outputs": [],
   "source": [
    "bus_results = net.res_bus\n",
    "#print(bus_results)\n",
    "bus_results.insert(loc=0, column='bus',value = [i for i in range(1,num_of_bus+1)])"
   ]
  },
  {
   "cell_type": "markdown",
   "metadata": {},
   "source": []
  },
  {
   "cell_type": "code",
   "execution_count": 151,
   "metadata": {},
   "outputs": [
    {
     "name": "stdout",
     "output_type": "stream",
     "text": [
      "    bus     vm_pu  va_degree       p_mw     q_mvar\n",
      "1     1  1.000000   0.000000 -29.255389 -17.956803\n",
      "2     2  0.985163  -0.312453   2.000000   1.600000\n",
      "3     3  0.980763  -0.303987   4.000000   2.700000\n",
      "4     4  0.986564  -0.187004   1.000000   0.900000\n",
      "5     5  0.979205  -0.482806   2.000000   0.800000\n",
      "6     6  0.976842  -0.544611   3.000000   1.500000\n",
      "7     7  0.978501  -0.468849   1.500000   1.200000\n",
      "8     8  0.970765  -0.618997   5.000000   3.000000\n",
      "9     9  0.964747  -0.823944   4.500000   2.000000\n",
      "10   10  0.975011  -0.573195   0.600000   0.100000\n",
      "11   11  0.981320  -0.280871   1.000000   0.900000\n",
      "12   12  0.982297  -0.270101   1.000000   0.700000\n",
      "13   13  0.981081  -0.357323   1.000000   0.900000\n",
      "14   14  0.979414  -0.404625   2.100000   1.000000\n"
     ]
    }
   ],
   "source": [
    "\n",
    "bus_results.set_index('bus')\n",
    "\n",
    "print(bus_results)\n",
    "\n",
    "bus_results.to_csv('./node_results.csv')"
   ]
  },
  {
   "cell_type": "markdown",
   "metadata": {},
   "source": []
  },
  {
   "cell_type": "code",
   "execution_count": 146,
   "metadata": {},
   "outputs": [
    {
     "name": "stdout",
     "output_type": "stream",
     "text": [
      "        p_mw     q_mvar\n",
      "0  29.255389  17.956803\n"
     ]
    }
   ],
   "source": [
    "print(net.res_ext_grid)"
   ]
  },
  {
   "cell_type": "code",
   "execution_count": 147,
   "metadata": {},
   "outputs": [
    {
     "name": "stdout",
     "output_type": "stream",
     "text": [
      "    p_from_mw  q_from_mvar    p_to_mw  q_to_mvar     pl_mw   ql_mvar  \\\n",
      "0   10.566914     6.926031 -10.447192  -6.766401  0.119722  0.159630   \n",
      "1   11.115399     6.384948 -10.934647  -6.204196  0.180752  0.180752   \n",
      "2    7.573076     4.645825  -7.486248  -4.558996  0.086829  0.086829   \n",
      "3    2.580154     1.973427  -2.570369  -1.953858  0.009785  0.019569   \n",
      "4    5.867038     3.192974  -5.830261  -3.142405  0.036777  0.050568   \n",
      "5    0.570369     1.153858  -0.569678  -1.153167  0.000691  0.000691   \n",
      "6    7.359217     3.575768  -7.303541  -3.499212  0.055677  0.076556   \n",
      "7    4.520844     2.028660  -4.500000  -2.000000  0.020844  0.028660   \n",
      "8   -2.217303    -1.529448   2.225772   1.537917  0.008469  0.008469   \n",
      "9   -0.424570    -0.071572   0.424782   0.071784  0.000212  0.000212   \n",
      "10   2.434118     1.683820  -2.426018  -1.673019  0.008100  0.010800   \n",
      "11   4.052129     1.975176  -4.035427  -1.952210  0.016703  0.022966   \n",
      "12   3.035427     1.052210  -3.031138  -1.047921  0.004289  0.004289   \n",
      "13   2.830261     1.642405  -2.825772  -1.637917  0.004489  0.004489   \n",
      "14  -1.424782    -0.971784   1.426018   0.973019  0.001235  0.001235   \n",
      "15  -0.930322    -0.046833   0.931138   0.047921  0.000816  0.001087   \n",
      "\n",
      "    i_from_ka   i_to_ka      i_ka  vm_from_pu  va_from_degree  vm_to_pu  \\\n",
      "0    0.317153  0.317153  0.317153    1.000000        0.000000  0.985163   \n",
      "1    0.321778  0.321778  0.321778    1.000000        0.000000  0.980763   \n",
      "2    0.223022  0.223022  0.223022    1.000000        0.000000  0.986564   \n",
      "3    0.082768  0.082768  0.082768    0.985163       -0.312453  0.979205   \n",
      "4    0.170198  0.170198  0.170198    0.985163       -0.312453  0.976842   \n",
      "5    0.032996  0.032996  0.032996    0.979205       -0.482806  0.978501   \n",
      "6    0.209413  0.209413  0.209413    0.980763       -0.303987  0.970765   \n",
      "7    0.128131  0.128131  0.128131    0.970765       -0.618997  0.964747   \n",
      "8    0.069652  0.069652  0.069652    0.970765       -0.618997  0.975011   \n",
      "9    0.011020  0.011020  0.011020    0.980763       -0.303987  0.981320   \n",
      "10   0.075308  0.075308  0.075308    0.986564       -0.187004  0.982297   \n",
      "11   0.114699  0.114699  0.114699    0.986564       -0.187004  0.981081   \n",
      "12   0.082199  0.082199  0.082199    0.981081       -0.357323  0.979414   \n",
      "13   0.084089  0.084089  0.084089    0.976842       -0.544611  0.975011   \n",
      "14   0.044116  0.044116  0.044116    0.981320       -0.280871  0.982297   \n",
      "15   0.023896  0.023896  0.023896    0.978501       -0.468849  0.979414   \n",
      "\n",
      "    va_to_degree  loading_percent  \n",
      "0      -0.312453         0.031715  \n",
      "1      -0.303987         0.032178  \n",
      "2      -0.187004         0.022302  \n",
      "3      -0.482806         0.008277  \n",
      "4      -0.544611         0.017020  \n",
      "5      -0.468849         0.003300  \n",
      "6      -0.618997         0.020941  \n",
      "7      -0.823944         0.012813  \n",
      "8      -0.573195         0.006965  \n",
      "9      -0.280871         0.001102  \n",
      "10     -0.270101         0.007531  \n",
      "11     -0.357323         0.011470  \n",
      "12     -0.404625         0.008220  \n",
      "13     -0.573195         0.008409  \n",
      "14     -0.270101         0.004412  \n",
      "15     -0.404625         0.002390  \n"
     ]
    }
   ],
   "source": [
    "print(net.res_line)"
   ]
  },
  {
   "cell_type": "code",
   "execution_count": 148,
   "metadata": {},
   "outputs": [
    {
     "data": {
      "text/plain": [
       "<module 'pandapower.create' from 'C:\\\\Users\\\\bingy\\\\AppData\\\\Local\\\\Packages\\\\PythonSoftwareFoundation.Python.3.10_qbz5n2kfra8p0\\\\LocalCache\\\\local-packages\\\\Python310\\\\site-packages\\\\pandapower\\\\create.py'>"
      ]
     },
     "execution_count": 148,
     "metadata": {},
     "output_type": "execute_result"
    }
   ],
   "source": [
    "pp.create"
   ]
  }
 ],
 "metadata": {
  "kernelspec": {
   "display_name": "Python 3",
   "language": "python",
   "name": "python3"
  },
  "language_info": {
   "codemirror_mode": {
    "name": "ipython",
    "version": 3
   },
   "file_extension": ".py",
   "mimetype": "text/x-python",
   "name": "python",
   "nbconvert_exporter": "python",
   "pygments_lexer": "ipython3",
   "version": "3.10.9"
  },
  "orig_nbformat": 4,
  "vscode": {
   "interpreter": {
    "hash": "4dd1dc2b4cf8753a792404c849fd3b3ef5b2483288c4b02df7715583a060a13e"
   }
  }
 },
 "nbformat": 4,
 "nbformat_minor": 2
}
