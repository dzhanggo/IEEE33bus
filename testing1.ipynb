{
 "cells": [
  {
   "attachments": {},
   "cell_type": "markdown",
   "metadata": {},
   "source": [
    "test case 4 bus "
   ]
  },
  {
   "cell_type": "code",
   "execution_count": 2,
   "metadata": {},
   "outputs": [
    {
     "name": "stdout",
     "output_type": "stream",
     "text": [
      "This pandapower network includes the following parameter tables:\n",
      "   - bus (4 elements)\n",
      "   - load (2 elements)\n",
      "   - sgen (2 elements)\n",
      "   - ext_grid (1 element)\n",
      "   - line (2 elements)\n",
      "   - trafo (1 element)\n",
      "   - bus_geodata (4 elements)\n"
     ]
    }
   ],
   "source": [
    "import pandapower.networks as nw\n",
    "import pandapower as pp\n",
    "\n",
    "net = nw.simple_four_bus_system()\n",
    "\n",
    "print(net)\n",
    "\n"
   ]
  },
  {
   "cell_type": "code",
   "execution_count": 3,
   "metadata": {},
   "outputs": [
    {
     "data": {
      "text/html": [
       "<div>\n",
       "<style scoped>\n",
       "    .dataframe tbody tr th:only-of-type {\n",
       "        vertical-align: middle;\n",
       "    }\n",
       "\n",
       "    .dataframe tbody tr th {\n",
       "        vertical-align: top;\n",
       "    }\n",
       "\n",
       "    .dataframe thead th {\n",
       "        text-align: right;\n",
       "    }\n",
       "</style>\n",
       "<table border=\"1\" class=\"dataframe\">\n",
       "  <thead>\n",
       "    <tr style=\"text-align: right;\">\n",
       "      <th></th>\n",
       "      <th>name</th>\n",
       "      <th>bus</th>\n",
       "      <th>p_mw</th>\n",
       "      <th>q_mvar</th>\n",
       "      <th>const_z_percent</th>\n",
       "      <th>const_i_percent</th>\n",
       "      <th>sn_mva</th>\n",
       "      <th>scaling</th>\n",
       "      <th>in_service</th>\n",
       "      <th>type</th>\n",
       "    </tr>\n",
       "  </thead>\n",
       "  <tbody>\n",
       "    <tr>\n",
       "      <th>0</th>\n",
       "      <td>load1</td>\n",
       "      <td>2</td>\n",
       "      <td>0.03</td>\n",
       "      <td>0.01</td>\n",
       "      <td>0.0</td>\n",
       "      <td>0.0</td>\n",
       "      <td>NaN</td>\n",
       "      <td>1.0</td>\n",
       "      <td>True</td>\n",
       "      <td>wye</td>\n",
       "    </tr>\n",
       "    <tr>\n",
       "      <th>1</th>\n",
       "      <td>load2</td>\n",
       "      <td>3</td>\n",
       "      <td>0.03</td>\n",
       "      <td>0.01</td>\n",
       "      <td>0.0</td>\n",
       "      <td>0.0</td>\n",
       "      <td>NaN</td>\n",
       "      <td>1.0</td>\n",
       "      <td>True</td>\n",
       "      <td>wye</td>\n",
       "    </tr>\n",
       "  </tbody>\n",
       "</table>\n",
       "</div>"
      ],
      "text/plain": [
       "    name  bus  p_mw  q_mvar  const_z_percent  const_i_percent  sn_mva  \\\n",
       "0  load1    2  0.03    0.01              0.0              0.0     NaN   \n",
       "1  load2    3  0.03    0.01              0.0              0.0     NaN   \n",
       "\n",
       "   scaling  in_service type  \n",
       "0      1.0        True  wye  \n",
       "1      1.0        True  wye  "
      ]
     },
     "execution_count": 3,
     "metadata": {},
     "output_type": "execute_result"
    }
   ],
   "source": [
    "net.load"
   ]
  },
  {
   "cell_type": "code",
   "execution_count": 4,
   "metadata": {},
   "outputs": [
    {
     "name": "stderr",
     "output_type": "stream",
     "text": [
      "numba cannot be imported and numba functions are disabled.\n",
      "Probably the execution is slow.\n",
      "Please install numba to gain a massive speedup.\n",
      "(or if you prefer slow execution, set the flag numba=False to avoid this warning!)\n",
      "\n"
     ]
    },
    {
     "data": {
      "text/html": [
       "<div>\n",
       "<style scoped>\n",
       "    .dataframe tbody tr th:only-of-type {\n",
       "        vertical-align: middle;\n",
       "    }\n",
       "\n",
       "    .dataframe tbody tr th {\n",
       "        vertical-align: top;\n",
       "    }\n",
       "\n",
       "    .dataframe thead th {\n",
       "        text-align: right;\n",
       "    }\n",
       "</style>\n",
       "<table border=\"1\" class=\"dataframe\">\n",
       "  <thead>\n",
       "    <tr style=\"text-align: right;\">\n",
       "      <th></th>\n",
       "      <th>vm_pu</th>\n",
       "      <th>va_degree</th>\n",
       "      <th>p_mw</th>\n",
       "      <th>q_mvar</th>\n",
       "    </tr>\n",
       "  </thead>\n",
       "  <tbody>\n",
       "    <tr>\n",
       "      <th>0</th>\n",
       "      <td>1.000000</td>\n",
       "      <td>0.000000</td>\n",
       "      <td>-0.028256</td>\n",
       "      <td>-0.013475</td>\n",
       "    </tr>\n",
       "    <tr>\n",
       "      <th>1</th>\n",
       "      <td>0.996608</td>\n",
       "      <td>-0.208127</td>\n",
       "      <td>0.000000</td>\n",
       "      <td>0.000000</td>\n",
       "    </tr>\n",
       "    <tr>\n",
       "      <th>2</th>\n",
       "      <td>0.937760</td>\n",
       "      <td>0.992541</td>\n",
       "      <td>0.010000</td>\n",
       "      <td>0.005000</td>\n",
       "    </tr>\n",
       "    <tr>\n",
       "      <th>3</th>\n",
       "      <td>0.902000</td>\n",
       "      <td>1.815913</td>\n",
       "      <td>0.015000</td>\n",
       "      <td>0.008000</td>\n",
       "    </tr>\n",
       "  </tbody>\n",
       "</table>\n",
       "</div>"
      ],
      "text/plain": [
       "      vm_pu  va_degree      p_mw    q_mvar\n",
       "0  1.000000   0.000000 -0.028256 -0.013475\n",
       "1  0.996608  -0.208127  0.000000  0.000000\n",
       "2  0.937760   0.992541  0.010000  0.005000\n",
       "3  0.902000   1.815913  0.015000  0.008000"
      ]
     },
     "execution_count": 4,
     "metadata": {},
     "output_type": "execute_result"
    }
   ],
   "source": [
    "pp.runpp(net)\n",
    "net.res_bus"
   ]
  },
  {
   "cell_type": "code",
   "execution_count": 5,
   "metadata": {},
   "outputs": [
    {
     "data": {
      "text/html": [
       "<div>\n",
       "<style scoped>\n",
       "    .dataframe tbody tr th:only-of-type {\n",
       "        vertical-align: middle;\n",
       "    }\n",
       "\n",
       "    .dataframe tbody tr th {\n",
       "        vertical-align: top;\n",
       "    }\n",
       "\n",
       "    .dataframe thead th {\n",
       "        text-align: right;\n",
       "    }\n",
       "</style>\n",
       "<table border=\"1\" class=\"dataframe\">\n",
       "  <thead>\n",
       "    <tr style=\"text-align: right;\">\n",
       "      <th></th>\n",
       "      <th>name</th>\n",
       "      <th>bus</th>\n",
       "      <th>p_mw</th>\n",
       "      <th>q_mvar</th>\n",
       "      <th>sn_mva</th>\n",
       "      <th>scaling</th>\n",
       "      <th>in_service</th>\n",
       "      <th>type</th>\n",
       "      <th>current_source</th>\n",
       "    </tr>\n",
       "  </thead>\n",
       "  <tbody>\n",
       "    <tr>\n",
       "      <th>0</th>\n",
       "      <td>pv1</td>\n",
       "      <td>2</td>\n",
       "      <td>0.020</td>\n",
       "      <td>0.005</td>\n",
       "      <td>0.03</td>\n",
       "      <td>1.0</td>\n",
       "      <td>True</td>\n",
       "      <td>wye</td>\n",
       "      <td>True</td>\n",
       "    </tr>\n",
       "    <tr>\n",
       "      <th>1</th>\n",
       "      <td>pv2</td>\n",
       "      <td>3</td>\n",
       "      <td>0.015</td>\n",
       "      <td>0.002</td>\n",
       "      <td>0.02</td>\n",
       "      <td>1.0</td>\n",
       "      <td>True</td>\n",
       "      <td>wye</td>\n",
       "      <td>True</td>\n",
       "    </tr>\n",
       "  </tbody>\n",
       "</table>\n",
       "</div>"
      ],
      "text/plain": [
       "  name  bus   p_mw  q_mvar  sn_mva  scaling  in_service type  current_source\n",
       "0  pv1    2  0.020   0.005    0.03      1.0        True  wye            True\n",
       "1  pv2    3  0.015   0.002    0.02      1.0        True  wye            True"
      ]
     },
     "execution_count": 5,
     "metadata": {},
     "output_type": "execute_result"
    }
   ],
   "source": [
    "net.sgen"
   ]
  },
  {
   "cell_type": "code",
   "execution_count": 6,
   "metadata": {},
   "outputs": [
    {
     "name": "stdout",
     "output_type": "stream",
     "text": [
      "This pandapower network includes the following parameter tables:\n"
     ]
    }
   ],
   "source": [
    "\n",
    "net0 = pp.create_empty_network(name=\"empty\")\n",
    "\n",
    "print(net0)"
   ]
  },
  {
   "cell_type": "code",
   "execution_count": 7,
   "metadata": {},
   "outputs": [
    {
     "name": "stdout",
     "output_type": "stream",
     "text": [
      "   name  bus  vm_pu  va_degree  slack_weight  in_service\n",
      "0  None    0   1.02        0.0           1.0        True\n",
      "   name  vn_kv type  zone  in_service\n",
      "0  bus1   20.0    b  None        True\n",
      "1  bus2    0.4    b  None        True\n",
      "2  bus3    0.4    b  None        True\n"
     ]
    }
   ],
   "source": [
    "# creat bus \n",
    "b1 = pp.create_bus(net0,vn_kv=20.,name=\"bus1\")\n",
    "b2 = pp.create_bus(net0,vn_kv=.4,name=\"bus2\")\n",
    "b3 = pp.create_bus(net0,vn_kv=.4,name=\"bus3\")\n",
    "\n",
    "# external grid\n",
    "pp.create_ext_grid(net0,b1,vm_pu=1.02)\n",
    "\n",
    "print(net0.ext_grid)\n",
    "print(net0.bus)\n",
    "\n",
    "\n",
    "\n",
    "\n"
   ]
  },
  {
   "cell_type": "code",
   "execution_count": 8,
   "metadata": {},
   "outputs": [
    {
     "data": {
      "text/plain": [
       "0"
      ]
     },
     "execution_count": 8,
     "metadata": {},
     "output_type": "execute_result"
    }
   ],
   "source": [
    "# create transformer\n",
    "pp.create_transformer(net0,b1,b2,std_type=\"0.4 MVA 20/0.4 kV\")\n",
    "\n",
    "#create line\n",
    "pp.create_line(net0, b2 , b3, std_type=\"NAYY 4x50 SE\",length_km=0.1, name=\"line\")\n",
    "\n",
    "#create load\n",
    "pp.create_load(net0, b3, p_mw=0.1, q_mvar=0.05)\n",
    "\n"
   ]
  },
  {
   "cell_type": "code",
   "execution_count": 9,
   "metadata": {},
   "outputs": [
    {
     "name": "stderr",
     "output_type": "stream",
     "text": [
      "numba cannot be imported and numba functions are disabled.\n",
      "Probably the execution is slow.\n",
      "Please install numba to gain a massive speedup.\n",
      "(or if you prefer slow execution, set the flag numba=False to avoid this warning!)\n",
      "\n"
     ]
    }
   ],
   "source": [
    "\n",
    "pp.runpp(net0)"
   ]
  },
  {
   "cell_type": "code",
   "execution_count": 10,
   "metadata": {},
   "outputs": [
    {
     "name": "stdout",
     "output_type": "stream",
     "text": [
      "      vm_pu  va_degree      p_mw    q_mvar\n",
      "0  1.020000   0.000000 -0.107265 -0.052675\n",
      "1  1.008843  -0.760126  0.000000  0.000000\n",
      "2  0.964431   0.115859  0.100000  0.050000\n"
     ]
    }
   ],
   "source": [
    "print(net0.res_bus)"
   ]
  },
  {
   "cell_type": "code",
   "execution_count": null,
   "metadata": {},
   "outputs": [],
   "source": [
    "print(net0.load)"
   ]
  }
 ],
 "metadata": {
  "kernelspec": {
   "display_name": "Python 3",
   "language": "python",
   "name": "python3"
  },
  "language_info": {
   "codemirror_mode": {
    "name": "ipython",
    "version": 3
   },
   "file_extension": ".py",
   "mimetype": "text/x-python",
   "name": "python",
   "nbconvert_exporter": "python",
   "pygments_lexer": "ipython3",
   "version": "3.10.9"
  },
  "orig_nbformat": 4,
  "vscode": {
   "interpreter": {
    "hash": "4dd1dc2b4cf8753a792404c849fd3b3ef5b2483288c4b02df7715583a060a13e"
   }
  }
 },
 "nbformat": 4,
 "nbformat_minor": 2
}
