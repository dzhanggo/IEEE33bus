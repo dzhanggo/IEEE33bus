{
 "cells": [
  {
   "cell_type": "code",
   "execution_count": 55,
   "metadata": {},
   "outputs": [],
   "source": [
    "import pandas as pd\n",
    "import pandapower as pp\n",
    "\n",
    "net = pp.create_empty_network()\n",
    "df = pd.read_excel(\"grid_data.xlsx\", sheet_name=\"bus\", index_col=0)"
   ]
  },
  {
   "cell_type": "code",
   "execution_count": 56,
   "metadata": {},
   "outputs": [],
   "source": [
    "for idx in df.index:\n",
    "    pp.create_bus(net, vn_kv=df.at[idx,\"vn_kv\"],name=\"bus {}\".format(idx))"
   ]
  },
  {
   "cell_type": "code",
   "execution_count": 57,
   "metadata": {},
   "outputs": [],
   "source": [
    "df = pd.read_excel(\"grid_data.xlsx\", sheet_name=\"load\", index_col=0)\n",
    "\n",
    "for idx in df.index:\n",
    "    pp.create_load(net, bus=df.at[idx,\"bus\"],p_mw=df.at[idx,\"p\"],name=\"load {}\".format(idx))"
   ]
  },
  {
   "cell_type": "code",
   "execution_count": 58,
   "metadata": {},
   "outputs": [
    {
     "data": {
      "text/plain": [
       "0"
      ]
     },
     "execution_count": 58,
     "metadata": {},
     "output_type": "execute_result"
    }
   ],
   "source": [
    "df = pd.read_excel(\"grid_data.xlsx\", sheet_name=\"ext_grid\", index_col=0)\n",
    "\n",
    "pp.create_ext_grid(net, bus=df.loc[0,\"bus\"],vm_pu=df.loc[0,\"vm_pu\"],va_degree=df.loc[0,\"va_degree\"])"
   ]
  },
  {
   "cell_type": "code",
   "execution_count": 86,
   "metadata": {},
   "outputs": [],
   "source": [
    "df = pd.read_excel(\"grid_data.xlsx\", sheet_name=\"line\", index_col=0)\n",
    "\n",
    "for idx in df.index:\n",
    "    pp.create_line_from_parameters(net, from_bus=df.at[idx,\"from_bus\"],to_bus=df.at[idx,\"to_bus\"],length_km=df.at[idx,\"length_km\"],r_ohm_per_km=df.at[idx,\"r_ohm_per_km\"],\n",
    "                                   x_ohm_per_km=df.at[idx,\"x_ohm_per_km\"],c_nf_per_km=df.at[idx,\"c_nf_per_km\"],g_us_per_km=df.at[idx,\"g_us_per_km\"],\n",
    "                                   max_i_ka=df.at[idx,\"max_i_ka\"],r0_ohm_per_km=0,x0_ohm_per_km=0,c0_nf_per_km=0,name=\"line {}\".format(idx))\n",
    "    \n"
   ]
  },
  {
   "cell_type": "code",
   "execution_count": 87,
   "metadata": {},
   "outputs": [
    {
     "data": {
      "text/plain": [
       "3"
      ]
     },
     "execution_count": 87,
     "metadata": {},
     "output_type": "execute_result"
    }
   ],
   "source": [
    "df = pd.read_excel(\"grid_data.xlsx\", sheet_name=\"transformer\", index_col=0)\n",
    "\n",
    "pp.create_transformer(net, hv_bus=df.loc[0,\"hv_bus\"],lv_bus=df.loc[0,\"lv_bus\"],std_type=df.loc[0,\"std_type\"],vector_group='Dyn')"
   ]
  },
  {
   "cell_type": "code",
   "execution_count": 72,
   "metadata": {},
   "outputs": [
    {
     "name": "stderr",
     "output_type": "stream",
     "text": [
      "numba cannot be imported and numba functions are disabled.\n",
      "Probably the execution is slow.\n",
      "Please install numba to gain a massive speedup.\n",
      "(or if you prefer slow execution, set the flag numba=False to avoid this warning!)\n",
      "\n"
     ]
    }
   ],
   "source": [
    "pp.runpp(net)"
   ]
  },
  {
   "cell_type": "code",
   "execution_count": 89,
   "metadata": {},
   "outputs": [
    {
     "name": "stderr",
     "output_type": "stream",
     "text": [
      "numba cannot be imported and numba functions are disabled.\n",
      "Probably the execution is slow.\n",
      "Please install numba to gain a massive speedup.\n",
      "(or if you prefer slow execution, set the flag numba=False to avoid this warning!)\n",
      "\n"
     ]
    },
    {
     "ename": "NotImplementedError",
     "evalue": "Calculation of 3-phase power flow is only implemented for the transformer vector groups 'YNyn', 'Dyn', 'Yzn'",
     "output_type": "error",
     "traceback": [
      "\u001b[1;31m---------------------------------------------------------------------------\u001b[0m",
      "\u001b[1;31mNotImplementedError\u001b[0m                       Traceback (most recent call last)",
      "Cell \u001b[1;32mIn [89], line 2\u001b[0m\n\u001b[0;32m      1\u001b[0m pp\u001b[39m.\u001b[39madd_zero_impedance_parameters(net)\n\u001b[1;32m----> 2\u001b[0m pp\u001b[39m.\u001b[39;49mrunpp_3ph(net)\n",
      "File \u001b[1;32m~\\AppData\\Local\\Packages\\PythonSoftwareFoundation.Python.3.10_qbz5n2kfra8p0\\LocalCache\\local-packages\\Python310\\site-packages\\pandapower\\pf\\runpp_3ph.py:421\u001b[0m, in \u001b[0;36mrunpp_3ph\u001b[1;34m(net, calculate_voltage_angles, init, max_iteration, tolerance_mva, trafo_model, trafo_loading, enforce_q_lims, numba, recycle, check_connectivity, switch_rx_ratio, delta_q, v_debug, **kwargs)\u001b[0m\n\u001b[0;32m    418\u001b[0m _, ppci2 \u001b[39m=\u001b[39m _pd2ppc_recycle(net, \u001b[39m2\u001b[39m, recycle\u001b[39m=\u001b[39mrecycle)\n\u001b[0;32m    419\u001b[0m gs_eg, bs_eg \u001b[39m=\u001b[39m _add_ext_grid_sc_impedance(net, ppci2)\n\u001b[1;32m--> 421\u001b[0m _, ppci0 \u001b[39m=\u001b[39m _pd2ppc_recycle(net, \u001b[39m0\u001b[39;49m, recycle\u001b[39m=\u001b[39;49mrecycle)\n\u001b[0;32m    423\u001b[0m _,        bus0, gen0, branch0,      _,      _,      _ \u001b[39m=\u001b[39m _get_pf_variables_from_ppci(ppci0)\n\u001b[0;32m    424\u001b[0m base_mva, bus1, gen1, branch1, sl_bus,      _, pq_bus \u001b[39m=\u001b[39m _get_pf_variables_from_ppci(ppci1)\n",
      "File \u001b[1;32m~\\AppData\\Local\\Packages\\PythonSoftwareFoundation.Python.3.10_qbz5n2kfra8p0\\LocalCache\\local-packages\\Python310\\site-packages\\pandapower\\pd2ppc.py:24\u001b[0m, in \u001b[0;36m_pd2ppc_recycle\u001b[1;34m(net, sequence, recycle)\u001b[0m\n\u001b[0;32m     22\u001b[0m key \u001b[39m=\u001b[39m \u001b[39m\"\u001b[39m\u001b[39m_ppc\u001b[39m\u001b[39m\"\u001b[39m \u001b[39mif\u001b[39;00m sequence \u001b[39mis\u001b[39;00m \u001b[39mNone\u001b[39;00m \u001b[39melse\u001b[39;00m \u001b[39m\"\u001b[39m\u001b[39m_ppc\u001b[39m\u001b[39m%d\u001b[39;00m\u001b[39m\"\u001b[39m \u001b[39m%\u001b[39m sequence\n\u001b[0;32m     23\u001b[0m \u001b[39mif\u001b[39;00m \u001b[39mnot\u001b[39;00m recycle \u001b[39mor\u001b[39;00m \u001b[39mnot\u001b[39;00m net\u001b[39m.\u001b[39mget(key, \u001b[39mNone\u001b[39;00m):\n\u001b[1;32m---> 24\u001b[0m     \u001b[39mreturn\u001b[39;00m _pd2ppc(net, sequence\u001b[39m=\u001b[39;49msequence)\n\u001b[0;32m     26\u001b[0m ppc \u001b[39m=\u001b[39m net[key]\n\u001b[0;32m     27\u001b[0m ppc[\u001b[39m\"\u001b[39m\u001b[39msuccess\u001b[39m\u001b[39m\"\u001b[39m] \u001b[39m=\u001b[39m \u001b[39mFalse\u001b[39;00m\n",
      "File \u001b[1;32m~\\AppData\\Local\\Packages\\PythonSoftwareFoundation.Python.3.10_qbz5n2kfra8p0\\LocalCache\\local-packages\\Python310\\site-packages\\pandapower\\pd2ppc.py:112\u001b[0m, in \u001b[0;36m_pd2ppc\u001b[1;34m(net, sequence)\u001b[0m\n\u001b[0;32m    110\u001b[0m     _add_ext_grid_sc_impedance_zero(net, ppc)\n\u001b[0;32m    111\u001b[0m     \u001b[39m# Calculates ppc0 branch impedances from branch elements\u001b[39;00m\n\u001b[1;32m--> 112\u001b[0m     _build_branch_ppc_zero(net, ppc)\n\u001b[0;32m    113\u001b[0m \u001b[39melse\u001b[39;00m:\n\u001b[0;32m    114\u001b[0m     \u001b[39m# Calculates ppc1/ppc2 branch impedances from branch elements\u001b[39;00m\n\u001b[0;32m    115\u001b[0m     _build_branch_ppc(net, ppc)\n",
      "File \u001b[1;32m~\\AppData\\Local\\Packages\\PythonSoftwareFoundation.Python.3.10_qbz5n2kfra8p0\\LocalCache\\local-packages\\Python310\\site-packages\\pandapower\\pd2ppc_zero.py:91\u001b[0m, in \u001b[0;36m_build_branch_ppc_zero\u001b[1;34m(net, ppc, k_st)\u001b[0m\n\u001b[0;32m     89\u001b[0m _add_line_sc_impedance_zero(net, ppc)\n\u001b[0;32m     90\u001b[0m _add_impedance_sc_impedance_zero(net, ppc)\n\u001b[1;32m---> 91\u001b[0m _add_trafo_sc_impedance_zero(net, ppc, k_st\u001b[39m=\u001b[39;49mk_st)\n\u001b[0;32m     92\u001b[0m \u001b[39mif\u001b[39;00m \u001b[39m\"\u001b[39m\u001b[39mswitch\u001b[39m\u001b[39m\"\u001b[39m \u001b[39min\u001b[39;00m lookup:\n\u001b[0;32m     93\u001b[0m     _calc_switch_parameter(net, ppc)\n",
      "File \u001b[1;32m~\\AppData\\Local\\Packages\\PythonSoftwareFoundation.Python.3.10_qbz5n2kfra8p0\\LocalCache\\local-packages\\Python310\\site-packages\\pandapower\\pd2ppc_zero.py:205\u001b[0m, in \u001b[0;36m_add_trafo_sc_impedance_zero\u001b[1;34m(net, ppc, trafo_df, k_st)\u001b[0m\n\u001b[0;32m    203\u001b[0m \u001b[39mif\u001b[39;00m mode \u001b[39m==\u001b[39m \u001b[39m'\u001b[39m\u001b[39mpf_3ph\u001b[39m\u001b[39m'\u001b[39m:\n\u001b[0;32m    204\u001b[0m     \u001b[39mif\u001b[39;00m vector_group\u001b[39m.\u001b[39mlower() \u001b[39mnot\u001b[39;00m \u001b[39min\u001b[39;00m [\u001b[39m\"\u001b[39m\u001b[39mynyn\u001b[39m\u001b[39m\"\u001b[39m, \u001b[39m\"\u001b[39m\u001b[39mdyn\u001b[39m\u001b[39m\"\u001b[39m, \u001b[39m\"\u001b[39m\u001b[39myzn\u001b[39m\u001b[39m\"\u001b[39m]:\n\u001b[1;32m--> 205\u001b[0m         \u001b[39mraise\u001b[39;00m \u001b[39mNotImplementedError\u001b[39;00m(\u001b[39m\"\u001b[39m\u001b[39mCalculation of 3-phase power flow is only implemented for the transformer \u001b[39m\u001b[39m\"\u001b[39m\n\u001b[0;32m    206\u001b[0m                                   \u001b[39m\"\u001b[39m\u001b[39mvector groups \u001b[39m\u001b[39m'\u001b[39m\u001b[39mYNyn\u001b[39m\u001b[39m'\u001b[39m\u001b[39m, \u001b[39m\u001b[39m'\u001b[39m\u001b[39mDyn\u001b[39m\u001b[39m'\u001b[39m\u001b[39m, \u001b[39m\u001b[39m'\u001b[39m\u001b[39mYzn\u001b[39m\u001b[39m'\u001b[39m\u001b[39m\"\u001b[39m)\n\u001b[0;32m    207\u001b[0m     \u001b[39m# =============================================================================\u001b[39;00m\n\u001b[0;32m    208\u001b[0m     \u001b[39m#     Changing base from transformer base to Network base to get Zpu(Net)\u001b[39;00m\n\u001b[0;32m    209\u001b[0m     \u001b[39m#     Zbase = (kV).squared/S_mva\u001b[39;00m\n\u001b[1;32m   (...)\u001b[0m\n\u001b[0;32m    213\u001b[0m     \u001b[39m#             Line-Neutral voltage= Line-Line Voltage(vn_bus_lv) divided by sq.root(3)\u001b[39;00m\n\u001b[0;32m    214\u001b[0m     \u001b[39m# =============================================================================\u001b[39;00m\n\u001b[0;32m    215\u001b[0m     tap_lv \u001b[39m=\u001b[39m np\u001b[39m.\u001b[39msquare(vn_trafo_lv \u001b[39m/\u001b[39m vn_bus_lv) \u001b[39m*\u001b[39m (\u001b[39m3\u001b[39m \u001b[39m*\u001b[39m net\u001b[39m.\u001b[39msn_mva)\n",
      "\u001b[1;31mNotImplementedError\u001b[0m: Calculation of 3-phase power flow is only implemented for the transformer vector groups 'YNyn', 'Dyn', 'Yzn'"
     ]
    }
   ],
   "source": [
    "pp.add_zero_impedance_parameters(net)\n",
    "pp.runpp_3ph(net)"
   ]
  },
  {
   "cell_type": "code",
   "execution_count": 67,
   "metadata": {},
   "outputs": [
    {
     "name": "stdout",
     "output_type": "stream",
     "text": [
      "      vm_pu  va_degree      p_mw    q_mvar\n",
      "0  1.000000   0.000000 -0.070704 -0.002025\n",
      "1  0.996369  -0.612368  0.000000  0.000000\n",
      "2  0.855496  -1.659285  0.060000  0.000000\n",
      "3  0.855497  -1.659588  0.000000  0.000000\n"
     ]
    }
   ],
   "source": [
    "print(net.res_bus)"
   ]
  },
  {
   "cell_type": "code",
   "execution_count": 73,
   "metadata": {},
   "outputs": [
    {
     "name": "stdout",
     "output_type": "stream",
     "text": [
      "       p_mw    q_mvar\n",
      "0  0.070704  0.002025\n"
     ]
    }
   ],
   "source": [
    "print(net.res_ext_grid)"
   ]
  },
  {
   "cell_type": "code",
   "execution_count": null,
   "metadata": {},
   "outputs": [],
   "source": [
    "pp.create"
   ]
  },
  {
   "cell_type": "code",
   "execution_count": 74,
   "metadata": {},
   "outputs": [
    {
     "name": "stdout",
     "output_type": "stream",
     "text": [
      "                    i0_percent  pfe_kw  vkr_percent  sn_mva  vn_lv_kv  \\\n",
      "160 MVA 380/110 kV      0.0600   60.00       0.2500  160.00     110.0   \n",
      "100 MVA 220/110 kV      0.0600   55.00       0.2600  100.00     110.0   \n",
      "63 MVA 110/20 kV        0.0400   22.00       0.3200   63.00      20.0   \n",
      "40 MVA 110/20 kV        0.0500   18.00       0.3400   40.00      20.0   \n",
      "25 MVA 110/20 kV        0.0700   14.00       0.4100   25.00      20.0   \n",
      "63 MVA 110/10 kV        0.0400   22.00       0.3200   63.00      10.0   \n",
      "40 MVA 110/10 kV        0.0500   18.00       0.3400   40.00      10.0   \n",
      "25 MVA 110/10 kV        0.0700   14.00       0.4100   25.00      10.0   \n",
      "0.25 MVA 20/0.4 kV      0.3200    0.80       1.4400    0.25       0.4   \n",
      "0.4 MVA 20/0.4 kV       0.3375    1.35       1.4250    0.40       0.4   \n",
      "0.63 MVA 20/0.4 kV      0.2619    1.65       1.2060    0.63       0.4   \n",
      "0.25 MVA 10/0.4 kV      0.2400    0.60       1.2000    0.25       0.4   \n",
      "0.4 MVA 10/0.4 kV       0.2375    0.95       1.3250    0.40       0.4   \n",
      "0.63 MVA 10/0.4 kV      0.1873    1.18       1.0794    0.63       0.4   \n",
      "\n",
      "                    vn_hv_kv  vk_percent  shift_degree vector_group tap_side  \\\n",
      "160 MVA 380/110 kV     380.0        12.2             0          Yy0       hv   \n",
      "100 MVA 220/110 kV     220.0        12.0             0          Yy0       hv   \n",
      "63 MVA 110/20 kV       110.0        18.0           150         YNd5       hv   \n",
      "40 MVA 110/20 kV       110.0        16.2           150         YNd5       hv   \n",
      "25 MVA 110/20 kV       110.0        12.0           150         YNd5       hv   \n",
      "63 MVA 110/10 kV       110.0        18.0           150         YNd5       hv   \n",
      "40 MVA 110/10 kV       110.0        16.2           150         YNd5       hv   \n",
      "25 MVA 110/10 kV       110.0        12.0           150         YNd5       hv   \n",
      "0.25 MVA 20/0.4 kV      20.0         6.0           150         Yzn5       hv   \n",
      "0.4 MVA 20/0.4 kV       20.0         6.0           150         Dyn5       hv   \n",
      "0.63 MVA 20/0.4 kV      20.0         6.0           150         Dyn5       hv   \n",
      "0.25 MVA 10/0.4 kV      10.0         4.0           150         Dyn5       hv   \n",
      "0.4 MVA 10/0.4 kV       10.0         4.0           150         Dyn5       hv   \n",
      "0.63 MVA 10/0.4 kV      10.0         4.0           150         Dyn5       hv   \n",
      "\n",
      "                    tap_neutral  tap_min  tap_max  tap_step_degree  \\\n",
      "160 MVA 380/110 kV            0       -9        9                0   \n",
      "100 MVA 220/110 kV            0       -9        9                0   \n",
      "63 MVA 110/20 kV              0       -9        9                0   \n",
      "40 MVA 110/20 kV              0       -9        9                0   \n",
      "25 MVA 110/20 kV              0       -9        9                0   \n",
      "63 MVA 110/10 kV              0       -9        9                0   \n",
      "40 MVA 110/10 kV              0       -9        9                0   \n",
      "25 MVA 110/10 kV              0       -9        9                0   \n",
      "0.25 MVA 20/0.4 kV            0       -2        2                0   \n",
      "0.4 MVA 20/0.4 kV             0       -2        2                0   \n",
      "0.63 MVA 20/0.4 kV            0       -2        2                0   \n",
      "0.25 MVA 10/0.4 kV            0       -2        2                0   \n",
      "0.4 MVA 10/0.4 kV             0       -2        2                0   \n",
      "0.63 MVA 10/0.4 kV            0       -2        2                0   \n",
      "\n",
      "                    tap_step_percent  tap_phase_shifter  \n",
      "160 MVA 380/110 kV               1.5              False  \n",
      "100 MVA 220/110 kV               1.5              False  \n",
      "63 MVA 110/20 kV                 1.5              False  \n",
      "40 MVA 110/20 kV                 1.5              False  \n",
      "25 MVA 110/20 kV                 1.5              False  \n",
      "63 MVA 110/10 kV                 1.5              False  \n",
      "40 MVA 110/10 kV                 1.5              False  \n",
      "25 MVA 110/10 kV                 1.5              False  \n",
      "0.25 MVA 20/0.4 kV               2.5              False  \n",
      "0.4 MVA 20/0.4 kV                2.5              False  \n",
      "0.63 MVA 20/0.4 kV               2.5              False  \n",
      "0.25 MVA 10/0.4 kV               2.5              False  \n",
      "0.4 MVA 10/0.4 kV                2.5              False  \n",
      "0.63 MVA 10/0.4 kV               2.5              False  \n"
     ]
    }
   ],
   "source": [
    "print(pp.available_std_types(net, element='trafo'))"
   ]
  }
 ],
 "metadata": {
  "kernelspec": {
   "display_name": "Python 3",
   "language": "python",
   "name": "python3"
  },
  "language_info": {
   "codemirror_mode": {
    "name": "ipython",
    "version": 3
   },
   "file_extension": ".py",
   "mimetype": "text/x-python",
   "name": "python",
   "nbconvert_exporter": "python",
   "pygments_lexer": "ipython3",
   "version": "3.10.9"
  },
  "orig_nbformat": 4,
  "vscode": {
   "interpreter": {
    "hash": "4dd1dc2b4cf8753a792404c849fd3b3ef5b2483288c4b02df7715583a060a13e"
   }
  }
 },
 "nbformat": 4,
 "nbformat_minor": 2
}
